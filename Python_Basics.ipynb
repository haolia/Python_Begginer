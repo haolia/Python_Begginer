{
 "cells": [
  {
   "cell_type": "markdown",
   "id": "17da4420",
   "metadata": {},
   "source": [
    "# Python Crash Course Exercises\n",
    "understanding of Python Basics"
   ]
  },
  {
   "cell_type": "markdown",
   "id": "cf8412a3",
   "metadata": {},
   "source": [
    "#### What is 7 to the power of 4?"
   ]
  },
  {
   "cell_type": "code",
   "execution_count": 13,
   "id": "e8817fba",
   "metadata": {},
   "outputs": [
    {
     "data": {
      "text/plain": [
       "2401"
      ]
     },
     "execution_count": 13,
     "metadata": {},
     "output_type": "execute_result"
    }
   ],
   "source": [
    "7**4"
   ]
  },
  {
   "cell_type": "markdown",
   "id": "0cba94b9",
   "metadata": {},
   "source": [
    "####  Split this string"
   ]
  },
  {
   "cell_type": "code",
   "execution_count": 14,
   "id": "e7fd3ef8",
   "metadata": {},
   "outputs": [
    {
     "data": {
      "text/plain": [
       "['Hi', 'there', 'Sam!']"
      ]
     },
     "execution_count": 14,
     "metadata": {},
     "output_type": "execute_result"
    }
   ],
   "source": [
    "s = \"Hi there Sam!\"\n",
    "s.split()"
   ]
  },
  {
   "cell_type": "markdown",
   "id": "a5e3b53f",
   "metadata": {},
   "source": [
    "####  Given the variables, Use .format() to print the following string: "
   ]
  },
  {
   "cell_type": "code",
   "execution_count": 15,
   "id": "97810edf",
   "metadata": {},
   "outputs": [
    {
     "name": "stdout",
     "output_type": "stream",
     "text": [
      "The diameter of the Earth is 12742 kilometers.\n"
     ]
    }
   ],
   "source": [
    "planet = \"Earth\"\n",
    "diameter = 12742\n",
    "print(f\"The diameter of the {planet} is {diameter} kilometers.\")"
   ]
  },
  {
   "cell_type": "markdown",
   "id": "a1ea3b91",
   "metadata": {},
   "source": [
    "#### Given this nested list, use indexing to grab the word \"hello\"  "
   ]
  },
  {
   "cell_type": "code",
   "execution_count": 16,
   "id": "756aab88",
   "metadata": {},
   "outputs": [
    {
     "data": {
      "text/plain": [
       "'hello'"
      ]
     },
     "execution_count": 16,
     "metadata": {},
     "output_type": "execute_result"
    }
   ],
   "source": [
    "lst = [1,2,[3,4],[5,[100,200,['hello']],23,11],1,7]\n",
    "lst[3][1][2][0]"
   ]
  },
  {
   "cell_type": "markdown",
   "id": "ad8dd4a2",
   "metadata": {},
   "source": [
    "#### Given this nested dictionary grab the word \"hello\". "
   ]
  },
  {
   "cell_type": "code",
   "execution_count": 17,
   "id": "7849a1c8",
   "metadata": {},
   "outputs": [
    {
     "data": {
      "text/plain": [
       "'hello'"
      ]
     },
     "execution_count": 17,
     "metadata": {},
     "output_type": "execute_result"
    }
   ],
   "source": [
    "d = {'k1':[1,2,3,{'tricky':['oh','man','inception',{'target':[1,2,3,'hello']}]}]}\n",
    "d['k1'][3]['tricky'][3]['target'][3]"
   ]
  },
  {
   "cell_type": "markdown",
   "id": "8d4e5138",
   "metadata": {},
   "source": [
    "#### What is the main difference between a tuple and a list? "
   ]
  },
  {
   "cell_type": "code",
   "execution_count": 18,
   "id": "ff65d087",
   "metadata": {},
   "outputs": [],
   "source": [
    "# Tuple is immutable"
   ]
  },
  {
   "cell_type": "markdown",
   "id": "ebceb3b7",
   "metadata": {},
   "source": [
    "#### Create a function that grabs the email website domain : for example, passing \"user@domain.com\" would return: domain.com"
   ]
  },
  {
   "cell_type": "code",
   "execution_count": 11,
   "id": "8a7a6609",
   "metadata": {},
   "outputs": [
    {
     "data": {
      "text/plain": [
       "'gmail.com'"
      ]
     },
     "execution_count": 11,
     "metadata": {},
     "output_type": "execute_result"
    }
   ],
   "source": [
    "def domain_get(email):\n",
    "    return email.split('@')[-1]\n",
    "\n",
    "domain_get('email@gmail.com') "
   ]
  },
  {
   "cell_type": "markdown",
   "id": "aa68c292",
   "metadata": {},
   "source": [
    "#### Create a basic function that returns True if the word 'dog' is contained in the input string. "
   ]
  },
  {
   "cell_type": "code",
   "execution_count": 20,
   "id": "37db1b8e",
   "metadata": {},
   "outputs": [
    {
     "data": {
      "text/plain": [
       "True"
      ]
     },
     "execution_count": 20,
     "metadata": {},
     "output_type": "execute_result"
    }
   ],
   "source": [
    "def get_dog(mn):\n",
    "    return 'dog' in mn.lower().split()\n",
    "\n",
    "get_dog('saya gak suka dog')"
   ]
  },
  {
   "cell_type": "markdown",
   "id": "39de97c2",
   "metadata": {},
   "source": [
    "#### Create a function that counts the number of times the word \"dog\" occurs in a string. "
   ]
  },
  {
   "cell_type": "code",
   "execution_count": 22,
   "id": "305daa48",
   "metadata": {},
   "outputs": [
    {
     "data": {
      "text/plain": [
       "2"
      ]
     },
     "execution_count": 22,
     "metadata": {},
     "output_type": "execute_result"
    }
   ],
   "source": [
    "def countDog(st):\n",
    "    count = 0\n",
    "    for word in st.lower().split():\n",
    "        if word == 'dog':\n",
    "            count += 1\n",
    "    return count\n",
    "\n",
    "countDog('This dog runs faster than the other dog dude!')"
   ]
  },
  {
   "cell_type": "markdown",
   "id": "d0c89eca",
   "metadata": {},
   "source": [
    "#### Use lambda expressions and the filter() function to filter out words from a list that don't start with the letter 's'. \n",
    "For example:seq = ['soup','dog','salad','cat','great']\n",
    "should be filtered down to:['soup','salad']"
   ]
  },
  {
   "cell_type": "code",
   "execution_count": 23,
   "id": "2b300d6a",
   "metadata": {},
   "outputs": [
    {
     "data": {
      "text/plain": [
       "['soup', 'salad']"
      ]
     },
     "execution_count": 23,
     "metadata": {},
     "output_type": "execute_result"
    }
   ],
   "source": [
    "seq = ['soup','dog','salad','cat','great']\n",
    "list(filter(lambda word: word[0]=='s',seq))"
   ]
  },
  {
   "cell_type": "markdown",
   "id": "b0c9ded5-9d89-47cc-a8a5-92990f75a64c",
   "metadata": {},
   "source": [
    "You are driving a little too fast, and a police officer stops you. Write a function to return one of 3 possible results: \"No ticket\", \"Small ticket\", or \"Big Ticket\". If your speed is 60 or less, the result is \"No Ticket\". If speed is between 61 and 80 inclusive, the result is \"Small Ticket\". If speed is 81 or more, the result is \"Big Ticket\". Unless it is your birthday (encoded as a boolean value in the parameters of the function) -- on your birthday, your speed can be 5 higher in all cases."
   ]
  },
  {
   "cell_type": "code",
   "execution_count": 2,
   "id": "0e0dafcd-5f95-45aa-915f-0de4f80ccdda",
   "metadata": {},
   "outputs": [],
   "source": [
    "def caught_speeding(speed, is_birthday):\n",
    "    \n",
    "    if is_birthday:\n",
    "        speeding = speed - 5\n",
    "    else:\n",
    "        speeding = speed\n",
    "    \n",
    "    if speeding > 80:\n",
    "        return 'Big Ticket'\n",
    "    elif speeding > 60:\n",
    "        return 'Small Ticket'\n",
    "    else:\n",
    "        return 'No Ticket'"
   ]
  },
  {
   "cell_type": "code",
   "execution_count": 3,
   "id": "0407ebc4-8f90-44b5-8b1f-91e80a34bfe6",
   "metadata": {},
   "outputs": [
    {
     "data": {
      "text/plain": [
       "'Small Ticket'"
      ]
     },
     "execution_count": 3,
     "metadata": {},
     "output_type": "execute_result"
    }
   ],
   "source": [
    "caught_speeding(81,True)"
   ]
  },
  {
   "cell_type": "code",
   "execution_count": 4,
   "id": "7433b563-fe7f-4e8e-afd3-a72a02b13742",
   "metadata": {},
   "outputs": [
    {
     "data": {
      "text/plain": [
       "'Big Ticket'"
      ]
     },
     "execution_count": 4,
     "metadata": {},
     "output_type": "execute_result"
    }
   ],
   "source": [
    "caught_speeding(81,False)"
   ]
  }
 ],
 "metadata": {
  "kernelspec": {
   "display_name": "Python 3 (ipykernel)",
   "language": "python",
   "name": "python3"
  },
  "language_info": {
   "codemirror_mode": {
    "name": "ipython",
    "version": 3
   },
   "file_extension": ".py",
   "mimetype": "text/x-python",
   "name": "python",
   "nbconvert_exporter": "python",
   "pygments_lexer": "ipython3",
   "version": "3.9.7"
  }
 },
 "nbformat": 4,
 "nbformat_minor": 5
}
